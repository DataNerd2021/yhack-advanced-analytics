{
 "cells": [
  {
   "cell_type": "markdown",
   "metadata": {},
   "source": [
    "### Import Required Libraries"
   ]
  },
  {
   "cell_type": "code",
   "execution_count": 71,
   "metadata": {},
   "outputs": [],
   "source": [
    "import pandas as pd\n",
    "import numpy as np\n",
    "from nltk.classify import NaiveBayesClassifier\n",
    "from nltk.classify.util import accuracy\n",
    "from sklearn.naive_bayes import BernoulliNB, MultinomialNB\n",
    "from sklearn.model_selection import train_test_split\n",
    "from sklearn.feature_extraction.text import TfidfVectorizer\n",
    "from sklearn.metrics import accuracy_score, classification_report\n",
    "from warnings import filterwarnings\n",
    "filterwarnings('ignore')"
   ]
  },
  {
   "cell_type": "markdown",
   "metadata": {},
   "source": [
    "## **NLTK Model**"
   ]
  },
  {
   "cell_type": "code",
   "execution_count": 72,
   "metadata": {},
   "outputs": [
    {
     "name": "stdout",
     "output_type": "stream",
     "text": [
      "Accuracy: 51.76%\n"
     ]
    }
   ],
   "source": [
    "df = pd.read_csv('Comments.csv')\n",
    "df.dropna(subset=['Comment'], inplace=True)\n",
    "\n",
    "comments = df['Comment'].tolist()\n",
    "sentiments = df['Sentiment'].tolist()\n",
    "\n",
    "training = dict(zip(comments, sentiments))\n",
    "\n",
    "# Convert the dictionary to a list of tuples\n",
    "# Each tuple contains a comment and the corresponding sentiment label\n",
    "data_tuples = [(comment, sentiment) for comment, sentiment in training.items()]\n",
    "\n",
    "# Split into training and testing sets\n",
    "train_size = int(len(data_tuples) * 0.8)\n",
    "train_set, test_set = data_tuples[:train_size], data_tuples[train_size:]\n",
    "\n",
    "# Define a simple feature extractor\n",
    "def word_features(comment):\n",
    "    # Check if the comment is a string\n",
    "    if isinstance(comment, str):\n",
    "        return dict((word, True) for word in comment.split())\n",
    "    else:\n",
    "        # Handle non-string values (e.g., floats)\n",
    "        print(f\"Skipping non-string value: {comment}\")\n",
    "        return {}\n",
    "\n",
    "# Convert the data to the required format\n",
    "train_features = [(word_features(comment), sentiment) for (comment, sentiment) in train_set]\n",
    "test_features = [(word_features(comment), sentiment) for (comment, sentiment) in test_set]\n",
    "\n",
    "# Train the Naive Bayes classifier\n",
    "classifier = NaiveBayesClassifier.train(train_features)\n",
    "\n",
    "# Evaluate accuracy\n",
    "acc = accuracy(classifier, test_features)\n",
    "print(f'Accuracy: {acc * 100:.2f}%')"
   ]
  },
  {
   "cell_type": "markdown",
   "metadata": {},
   "source": [
    "## **Ternary Sci-Kit Learn Model**"
   ]
  },
  {
   "cell_type": "code",
   "execution_count": 73,
   "metadata": {},
   "outputs": [
    {
     "name": "stdout",
     "output_type": "stream",
     "text": [
      "Accuracy: 65.21%\n",
      "Classification Report:\n",
      "               precision    recall  f1-score   support\n",
      "\n",
      "         0.0       1.00      0.01      0.01       475\n",
      "         1.0       0.73      0.21      0.32       937\n",
      "         2.0       0.65      0.97      0.78      2270\n",
      "\n",
      "    accuracy                           0.65      3682\n",
      "   macro avg       0.79      0.39      0.37      3682\n",
      "weighted avg       0.71      0.65      0.56      3682\n",
      "\n"
     ]
    }
   ],
   "source": [
    "# prepare training data\n",
    "\n",
    "training_data = pd.read_csv('comments.csv', index_col=0)\n",
    "training_data.dropna(subset=['Comment'], inplace=True)\n",
    "\n",
    "# set features and label\n",
    "\n",
    "X = training_data['Comment']\n",
    "y = training_data['Sentiment']\n",
    "\n",
    "# split dataset into training and testing subsets\n",
    "\n",
    "X_train, X_test, y_train, y_test = train_test_split(X, y, test_size=0.2, random_state=42)\n",
    "\n",
    "# vectorize features\n",
    "\n",
    "vectorizer = TfidfVectorizer()\n",
    "X_train_vec = vectorizer.fit_transform(X_train)\n",
    "X_test_vec = vectorizer.transform(X_test)\n",
    "\n",
    "# fit training data to model\n",
    "\n",
    "bayes_classifier = MultinomialNB()\n",
    "bayes_classifier.fit(X_train_vec, y_train)\n",
    "\n",
    "# get accuracy score\n",
    "\n",
    "y_pred = bayes_classifier.predict(X_test_vec)\n",
    "print(f\"Accuracy: {(accuracy_score(y_test, y_pred)*100):.2f}%\")\n",
    "print(\"Classification Report:\\n\", classification_report(y_test, y_pred))"
   ]
  },
  {
   "cell_type": "markdown",
   "metadata": {},
   "source": [
    "## **Binary Sci-Kit Learn Model**"
   ]
  },
  {
   "cell_type": "code",
   "execution_count": 74,
   "metadata": {},
   "outputs": [
    {
     "name": "stdout",
     "output_type": "stream",
     "text": [
      "Accuracy: 85.74%\n",
      "Classification Report:\n",
      "               precision    recall  f1-score   support\n",
      "\n",
      "         0.0       0.38      0.17      0.23       475\n",
      "         2.0       0.89      0.96      0.92      3207\n",
      "\n",
      "    accuracy                           0.86      3682\n",
      "   macro avg       0.63      0.56      0.58      3682\n",
      "weighted avg       0.82      0.86      0.83      3682\n",
      "\n"
     ]
    }
   ],
   "source": [
    "# prepare training data\n",
    "\n",
    "training_data = pd.read_csv('comments.csv', index_col=0)\n",
    "training_data['Sentiment'] = np.where(training_data['Sentiment'] == 1, 2, training_data['Sentiment'])\n",
    "training_data.dropna(subset=['Comment'], inplace=True)\n",
    "\n",
    "# set features and label\n",
    "\n",
    "X = training_data['Comment']\n",
    "y = training_data['Sentiment']\n",
    "\n",
    "# split dataset into training and testing subsets\n",
    "\n",
    "X_train, X_test, y_train, y_test = train_test_split(X, y, test_size=0.2, random_state=42)\n",
    "\n",
    "# vectorize features\n",
    "\n",
    "vectorizer = TfidfVectorizer()\n",
    "X_train_vec = vectorizer.fit_transform(X_train)\n",
    "X_test_vec = vectorizer.transform(X_test)\n",
    "\n",
    "# fit training data to model\n",
    "\n",
    "bayes_classifier = BernoulliNB()\n",
    "bayes_classifier.fit(X_train_vec, y_train)\n",
    "\n",
    "# get accuracy score\n",
    "\n",
    "y_pred = bayes_classifier.predict(X_test_vec)\n",
    "print(f\"Accuracy: {(accuracy_score(y_test, y_pred)*100):.2f}%\")\n",
    "print(\"Classification Report:\\n\", classification_report(y_test, y_pred))"
   ]
  },
  {
   "cell_type": "markdown",
   "metadata": {},
   "source": [
    "### Get List of Stopwords"
   ]
  },
  {
   "cell_type": "code",
   "execution_count": 75,
   "metadata": {},
   "outputs": [],
   "source": [
    "stopwords = []\n",
    "with open('stopwords.txt') as file:\n",
    "    for line in file:\n",
    "        stopwords.append(line)\n",
    "stopwords = [item.replace('\\n', '') for item in stopwords]"
   ]
  },
  {
   "cell_type": "markdown",
   "metadata": {},
   "source": [
    "## **Ternary Sci-Kit Learn Model (without Stopwords)**"
   ]
  },
  {
   "cell_type": "code",
   "execution_count": 76,
   "metadata": {},
   "outputs": [
    {
     "name": "stdout",
     "output_type": "stream",
     "text": [
      "Accuracy: 65.21%\n",
      "Classification Report:\n",
      "               precision    recall  f1-score   support\n",
      "\n",
      "         0.0       0.86      0.01      0.02       475\n",
      "         1.0       0.73      0.20      0.31       937\n",
      "         2.0       0.65      0.97      0.78      2270\n",
      "\n",
      "    accuracy                           0.65      3682\n",
      "   macro avg       0.74      0.39      0.37      3682\n",
      "weighted avg       0.70      0.65      0.56      3682\n",
      "\n"
     ]
    }
   ],
   "source": [
    "# prepare training data\n",
    "\n",
    "training_data = pd.read_csv('comments.csv', index_col=0)\n",
    "training_data.dropna(subset=['Comment'], inplace=True)\n",
    "\n",
    "# set features and label\n",
    "\n",
    "X = training_data['Comment']\n",
    "y = training_data['Sentiment']\n",
    "\n",
    "# split dataset into training and testing subsets\n",
    "\n",
    "X_train, X_test, y_train, y_test = train_test_split(X, y, test_size=0.2, random_state=42)\n",
    "\n",
    "# vectorize features\n",
    "\n",
    "vectorizer = TfidfVectorizer(stop_words=stopwords, strip_accents='unicode')\n",
    "X_train_vec = vectorizer.fit_transform(X_train)\n",
    "X_test_vec = vectorizer.transform(X_test)\n",
    "\n",
    "# fit training data to model\n",
    "\n",
    "bayes_classifier = MultinomialNB()\n",
    "bayes_classifier.fit(X_train_vec, y_train)\n",
    "\n",
    "# get accuracy score\n",
    "\n",
    "y_pred = bayes_classifier.predict(X_test_vec)\n",
    "print(f\"Accuracy: {(accuracy_score(y_test, y_pred)*100):.2f}%\")\n",
    "print(\"Classification Report:\\n\", classification_report(y_test, y_pred))"
   ]
  },
  {
   "cell_type": "markdown",
   "metadata": {},
   "source": [
    "## **Binary Sci-Kit Learn Model (without Stopwords)**"
   ]
  },
  {
   "cell_type": "code",
   "execution_count": 77,
   "metadata": {},
   "outputs": [
    {
     "name": "stdout",
     "output_type": "stream",
     "text": [
      "Accuracy: 86.69%\n",
      "Classification Report:\n",
      "               precision    recall  f1-score   support\n",
      "\n",
      "         0.0       0.44      0.13      0.20       475\n",
      "         2.0       0.88      0.98      0.93      3207\n",
      "\n",
      "    accuracy                           0.87      3682\n",
      "   macro avg       0.66      0.55      0.56      3682\n",
      "weighted avg       0.83      0.87      0.83      3682\n",
      "\n"
     ]
    }
   ],
   "source": [
    "# prepare training data\n",
    "\n",
    "training_data = pd.read_csv('comments.csv', index_col=0)\n",
    "training_data['Sentiment'] = np.where(training_data['Sentiment'] == 1, 2, training_data['Sentiment'])\n",
    "training_data.dropna(subset=['Comment'], inplace=True)\n",
    "\n",
    "# set features and label\n",
    "\n",
    "X = training_data['Comment']\n",
    "y = training_data['Sentiment']\n",
    "\n",
    "# split dataset into training and testing subsets\n",
    "\n",
    "X_train, X_test, y_train, y_test = train_test_split(X, y, test_size=0.2, random_state=42)\n",
    "\n",
    "# vectorize features\n",
    "\n",
    "vectorizer = TfidfVectorizer(stop_words=stopwords, strip_accents='unicode')\n",
    "X_train_vec = vectorizer.fit_transform(X_train)\n",
    "X_test_vec = vectorizer.transform(X_test)\n",
    "\n",
    "# fit training data to model\n",
    "\n",
    "bayes_classifier = BernoulliNB()\n",
    "bayes_classifier.fit(X_train_vec, y_train)\n",
    "\n",
    "# get accuracy score\n",
    "\n",
    "y_pred = bayes_classifier.predict(X_test_vec)\n",
    "print(f\"Accuracy: {(accuracy_score(y_test, y_pred)*100):.2f}%\")\n",
    "print(\"Classification Report:\\n\", classification_report(y_test, y_pred))"
   ]
  }
 ],
 "metadata": {
  "kernelspec": {
   "display_name": ".venv",
   "language": "python",
   "name": "python3"
  },
  "language_info": {
   "codemirror_mode": {
    "name": "ipython",
    "version": 3
   },
   "file_extension": ".py",
   "mimetype": "text/x-python",
   "name": "python",
   "nbconvert_exporter": "python",
   "pygments_lexer": "ipython3",
   "version": "3.9.12"
  }
 },
 "nbformat": 4,
 "nbformat_minor": 2
}
