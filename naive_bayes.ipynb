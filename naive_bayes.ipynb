{
 "cells": [
  {
   "cell_type": "markdown",
   "metadata": {},
   "source": [
    "Vectorize/Tokenize scheme"
   ]
  },
  {
   "cell_type": "code",
   "execution_count": 48,
   "metadata": {},
   "outputs": [],
   "source": [
    "import pandas as pd\n",
    "import numpy as np\n",
    "import json\n",
    "from Vectorize import create_vector_dict, vectorize_comment, vectorize_comments"
   ]
  },
  {
   "cell_type": "markdown",
   "metadata": {},
   "source": [
    "Define Stopwords"
   ]
  },
  {
   "cell_type": "code",
   "execution_count": 49,
   "metadata": {},
   "outputs": [
    {
     "name": "stdout",
     "output_type": "stream",
     "text": [
      "Stopwords:\n",
      "{'amongst', '', '84', 'always', '89', 'front', 'being', 'namely', 'for', 'why', '96', '1997', 'k', 'besides', 'd', 'thence', '2', '$', 'too', 'hereafter', 'the', 'back', 'she', 'within', '>', '32', 'get', 'beforehand', '5', 'two', '52', '37', 'forty', 'about', 'twelve', '22', 'cannot', 'please', 'whereby', 'h', 'sixty', '2019', 'take', 'whole', 'can', '30', 'couldnt', '25', 'thing', 'everywhere', 'thus', '1', 'who', '64', '#', 'they', '3', '13', '44', 'l', '88', 'because', 'amoungst', 'nobody', 'hasnt', 'every', 'were', '68', '1990', '80', 'c', 'herein', 'all', 'even', 'found', 'j', '38', 's', 'g', 'seem', 'my', 'whom', '20', 'by', '1994', 'ourselves', 'u', '23', '74', '29', '8', 'her', 'his', '1991', 'something', 'such', 'hers', 'one', 'p', '2009', '36', '86', '15', 'out', \"doesn't\", 'will', 'from', 'least', 'hence', 'up', 're', 'fify', '76', 'others', 'these', '98', 'find', 'do', 'same', 'once', 'often', '1995', 'did', 'else', '!', 'yet', 'are', 'seeming', '90', '2007', 'sometime', 't', '72', 'whether', '2018', 'down', 'yourself', 'no', 'together', 'around', 'b', '75', 'latterly', 'etc', 'our', 'less', 'nor', 'more', '2005', 'throughout', 'until', 'was', '43', '95', '19', '91', 'made', 'may', 'fire', 'move', '45', 'never', 'r', 'put', 'somewhere', 'where', '2002', '77', '66', 'most', 'indeed', 'be', 'or', '10', '\\\\}', 'three', '97', '93', 'it', 'thereupon', 'its', 'hereupon', 'when', '2013', '1993', 'does', 'nine', 'during', 'as', '42', '1999', 'we', 'see', '\\\\^', '0', '6', '46', '2006', '2017', 'wherein', 'towards', 'last', 'ltd', 'meanwhile', 'mill', 'am', 'w', 'a', 'along', 'six', 'someone', 'across', 'hundred', 'again', '61', '48', '58', 'each', 'ten', 'your', 'co', 'sometimes', 'fill', '2020', 'that', '1992', 'could', 'due', 'also', 'per', 'anyone', 'neither', 'should', 'would', '100', '78', 'however', '14', '\\\\+', 'but', '51', 'perhaps', '4', 'formerly', '1998', 'here', 'therefore', 'both', '17', 'i', 'himself', '53', 'then', '49', 'there', 'has', '54', 'so', '2016', 'five', '.', '59', '7', '1996', 'nothing', 'how', 'had', '9', '2010', 'whereas', 'whence', 'keep', '%', 'you', 'those', 'what', '2012', 'seemed', 'give', 'us', 'many', 'fifteen', '83', '26', 'well', 'yourselves', 'their', '@', 'been', 'nevertheless', ';', 'between', '16', '24', 'themselves', 'than', 'inc', 'upon', 'whoever', 'moreover', 'therein', '92', '63', 'whereafter', 'mine', 'while', 'thereafter', 'ever', 'enough', '47', ':', '87', 'might', 'z', '57', '65', 'before', 'much', 'four', 'toward', 'anything', '56', '2011', 'alone', 'above', 'eight', '69', 'whatever', 'whereupon', '-', 'everything', '55', '21', '33', 'whenever', 'anyhow', 'noone', 'n', '18', '11', '27', 'against', 'mostly', '39', 'ie', 'other', \"don't\", 'serious', 'an', '&', '40', 'un', 'v', 'twenty', 'x', 'ours', '2014', '2000', 'eg', '12', 'since', '99', '41', 'either', 'under', 'must', '2003', '2015', '50', 'onto', 'to', 'name', 'after', 'de', '\\\\*', 'except', 'hereby', 'and', 'whither', '73', 'first', 'beside', 'eleven', 'whose', 'herself', 'anyway', 'although', 'amount', 'itself', '94', 'this', 'without', 'y', 'everyone', 'not', 'some', 'call', 'is', 'him', '<', 'at', '71', 'cant', 'me', 'which', 'own', 'over', 'into', '81', 'done', '82', 'e', 'thru', '31', 'through', '\\\\[', '85', 'go', 'with', 'via', '62', 'very', 'third', 'almost', 'con', 'now', '70', 'further', ',', 'bottom', 'rather', 'if', '35', 'among', 'latter', 'former', '\\\\?', \"didn't\", 'full', '\\\\)', 'still', '\\\\]', 'only', 'q', '2001', '2004', 'wherever', 'yours', 'next', 'myself', 'any', 'system', 'anywhere', '28', 'thereby', 'afterwards', 'though', 'off', '34', 'another', 'he', 'nowhere', 'several', 'm', '67', 'f', 'of', '\\\\{', 'otherwise', '60', '2008', 'already', 'elsewhere', 'part', 'them', 'on', '\\\\(', '|', 'few', 'seems', 'have', 'in', 'o', 'somehow', 'none'}\n"
     ]
    }
   ],
   "source": [
    "def read_file_to_list(fpath: str) -> set[str]:\n",
    "    return set(open(fpath, 'r').read().split('\\n'))\n",
    "\n",
    "fpath = 'stopwords.txt'\n",
    "STOPWORDS = read_file_to_list(fpath)\n",
    "\n",
    "# Display stopwords\n",
    "print(\"Stopwords:\")\n",
    "print(STOPWORDS)\n"
   ]
  },
  {
   "cell_type": "code",
   "execution_count": 50,
   "metadata": {},
   "outputs": [],
   "source": [
    "df = pd.read_csv('comments.csv').dropna()\n",
    "# comments = df['Comment'].to_list()\n",
    "# bagOfWords = create_vector_dict(comments, STOPWORDS)\n",
    "bagOfWords = json.load(open('word_dict.json', 'r'))"
   ]
  },
  {
   "cell_type": "markdown",
   "metadata": {},
   "source": [
    "Compute probabilities"
   ]
  },
  {
   "cell_type": "code",
   "execution_count": 51,
   "metadata": {},
   "outputs": [
    {
     "name": "stdout",
     "output_type": "stream",
     "text": [
      "Probability of positive sentiment:  0.8729900043459365\n"
     ]
    }
   ],
   "source": [
    "n = df.shape[0]\n",
    "\n",
    "# P(Y=0) Probability of negative sentiment\n",
    "prob_neg_sent = (df['Sentiment'] == 0.0).sum()/n\n",
    "# P(Y=1) Probability of positive sentiment\n",
    "prob_pos_sent = 1 - prob_neg_sent\n",
    "print('Probability of positive sentiment: ', prob_pos_sent)"
   ]
  },
  {
   "cell_type": "markdown",
   "metadata": {},
   "source": [
    "Inference"
   ]
  },
  {
   "cell_type": "code",
   "execution_count": 53,
   "metadata": {},
   "outputs": [],
   "source": [
    "# vector with number of occurances of each word\n",
    "pos_comments_vec = np.array(json.load(open('pos_comments_vec.json')))\n",
    "neg_comments_vec = np.array(json.load(open('neg_comments_vec.json')))"
   ]
  },
  {
   "cell_type": "code",
   "execution_count": 61,
   "metadata": {},
   "outputs": [
    {
     "name": "stdout",
     "output_type": "stream",
     "text": [
      "Positive:  0.00039721416567484435\n",
      "Negative:  0.016996969188758287\n"
     ]
    }
   ],
   "source": [
    "#TODO: run inference on comm\n",
    "PRIOR = prob_neg_sent\n",
    "test_comment = \"I love you guys. I hope you know that. 😂 You guys brighten my day with these massive tech unboxing videos.\"\n",
    "# test_comment = \"I hate you guys. I hope you die.\"\n",
    "test_comm = np.array(vectorize_comment(test_comment, bagOfWords))\n",
    "normalized_pos_freq_vector = pos_comments_vec/pos_comments_vec.sum()\n",
    "normalized_neg_freq_vector = neg_comments_vec/neg_comments_vec.sum()\n",
    "\n",
    "pos_num = np.multiply(normalized_pos_freq_vector, test_comm) @ (prob_neg_sent*normalized_pos_freq_vector)/prob_pos_sent\n",
    "neg_num = np.multiply(normalized_neg_freq_vector, test_comm) @ (prob_pos_sent*normalized_neg_freq_vector)/prob_neg_sent\n",
    "\n",
    "print('Positive: ', np.log(pos_num))\n",
    "print('Negative: ', np.log(neg_num))"
   ]
  },
  {
   "cell_type": "code",
   "execution_count": null,
   "metadata": {},
   "outputs": [],
   "source": [
    "normalized_freq_vector"
   ]
  },
  {
   "cell_type": "code",
   "execution_count": null,
   "metadata": {},
   "outputs": [],
   "source": [
    "def computeLikelihood():\n",
    "    #TODO: implement"
   ]
  },
  {
   "cell_type": "code",
   "execution_count": null,
   "metadata": {},
   "outputs": [],
   "source": [
    "# x = freq_vector*comm\n",
    "\n",
    "# _x = prob_pos_sent*freq_vector\n",
    "# x@_x/prob_pos_sent"
   ]
  },
  {
   "cell_type": "code",
   "execution_count": null,
   "metadata": {},
   "outputs": [],
   "source": [
    "# _test2 = 'I think the pandemic has taught people the importance of multiple streams of income unfortunately having a job doesn’t mean security'\n",
    "# comm2 = np.array(vectorize_comment(_test2, bagOfWords))\n",
    "# z = freq_vector*comm2\n",
    "# _z = prob_neg_sent*freq_vector\n",
    "# z@_z/prob_neg_sent\n"
   ]
  }
 ],
 "metadata": {
  "kernelspec": {
   "display_name": "Python 3",
   "language": "python",
   "name": "python3"
  },
  "language_info": {
   "codemirror_mode": {
    "name": "ipython",
    "version": 3
   },
   "file_extension": ".py",
   "mimetype": "text/x-python",
   "name": "python",
   "nbconvert_exporter": "python",
   "pygments_lexer": "ipython3",
   "version": "3.11.4"
  }
 },
 "nbformat": 4,
 "nbformat_minor": 2
}
