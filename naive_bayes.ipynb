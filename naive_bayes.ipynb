{
 "cells": [
  {
   "cell_type": "markdown",
   "metadata": {},
   "source": [
    "Vectorize/Tokenize scheme"
   ]
  },
  {
   "cell_type": "code",
   "execution_count": null,
   "metadata": {},
   "outputs": [],
   "source": [
    "import pandas as pd\n",
    "import numpy as np\n",
    "import json\n",
    "from Vectorize import create_vector_dict, vectorize_comment, vectorize_comments"
   ]
  },
  {
   "cell_type": "markdown",
   "metadata": {},
   "source": [
    "Define Stopwords"
   ]
  },
  {
   "cell_type": "code",
   "execution_count": null,
   "metadata": {},
   "outputs": [],
   "source": [
    "def read_file_to_list(fpath: str) -> set[str]:\n",
    "    return set(open(fpath, 'r').read().split('\\n'))\n",
    "\n",
    "fpath = 'stopwords.txt'\n",
    "STOPWORDS = read_file_to_list(fpath)\n",
    "\n",
    "# Display stopwords\n",
    "print(\"Stopwords:\")\n",
    "print(STOPWORDS)\n"
   ]
  },
  {
   "cell_type": "code",
   "execution_count": null,
   "metadata": {},
   "outputs": [],
   "source": [
    "# df = pd.read_csv('comments.csv').dropna()\n",
    "# comments = df['Comment'].to_list()\n",
    "# bagOfWords = create_vector_dict(comments, STOPWORDS)\n",
    "bagOfWords = json.load(open('word_dict.json', 'r'))"
   ]
  },
  {
   "cell_type": "markdown",
   "metadata": {},
   "source": [
    "Compute probabilities"
   ]
  },
  {
   "cell_type": "code",
   "execution_count": null,
   "metadata": {},
   "outputs": [],
   "source": [
    "n = df.shape[0]\n",
    "\n",
    "# P(Y=0) Probability of negative sentiment\n",
    "prob_neg_sent = (df['Sentiment'] == 0.0).sum()/n\n",
    "# P(Y=1) Probability of positive sentiment\n",
    "prob_pos_sent = 1 - prob_neg_sent\n",
    "print('Probability of positive sentiment: ', prob_pos_sent)"
   ]
  },
  {
   "cell_type": "markdown",
   "metadata": {},
   "source": [
    "Inference"
   ]
  },
  {
   "cell_type": "code",
   "execution_count": null,
   "metadata": {},
   "outputs": [],
   "source": [
    "# vector with number of occurances of each word\n",
    "freq_vector = np.array(json.load(open('comments_vec.json')))\n",
    "freq_vector.shape"
   ]
  },
  {
   "cell_type": "code",
   "execution_count": null,
   "metadata": {},
   "outputs": [],
   "source": [
    "#TODO: run inference on comm\n",
    "PRIOR = prob_neg_sent\n",
    "test_comment = \"I love you guys. I hope you know that. 😂 You guys brighten my day with these massive tech unboxing videos.\"\n",
    "# test_comment = \"I hate you guys. I hope you die.\"\n",
    "test_comm = np.array(vectorize_comment(test_comment, bagOfWords))\n",
    "normalized_freq_vector = freq_vector/freq_vector.sum()\n",
    "\n",
    "np.multiply(normalized_freq_vector, test_comm) @ (prob_pos_sent*normalized_freq_vector)/prob_neg_sent"
   ]
  },
  {
   "cell_type": "code",
   "execution_count": null,
   "metadata": {},
   "outputs": [],
   "source": [
    "normalized_freq_vector"
   ]
  },
  {
   "cell_type": "code",
   "execution_count": null,
   "metadata": {},
   "outputs": [],
   "source": [
    "def computeLikelihood():\n",
    "    #TODO: implement"
   ]
  },
  {
   "cell_type": "code",
   "execution_count": null,
   "metadata": {},
   "outputs": [],
   "source": [
    "# x = freq_vector*comm\n",
    "\n",
    "# _x = prob_pos_sent*freq_vector\n",
    "# x@_x/prob_pos_sent"
   ]
  },
  {
   "cell_type": "code",
   "execution_count": null,
   "metadata": {},
   "outputs": [],
   "source": [
    "# _test2 = 'I think the pandemic has taught people the importance of multiple streams of income unfortunately having a job doesn’t mean security'\n",
    "# comm2 = np.array(vectorize_comment(_test2, bagOfWords))\n",
    "# z = freq_vector*comm2\n",
    "# _z = prob_neg_sent*freq_vector\n",
    "# z@_z/prob_neg_sent\n"
   ]
  }
 ],
 "metadata": {
  "kernelspec": {
   "display_name": "Python 3",
   "language": "python",
   "name": "python3"
  },
  "language_info": {
   "codemirror_mode": {
    "name": "ipython",
    "version": 3
   },
   "file_extension": ".py",
   "mimetype": "text/x-python",
   "name": "python",
   "nbconvert_exporter": "python",
   "pygments_lexer": "ipython3",
   "version": "3.11.4"
  }
 },
 "nbformat": 4,
 "nbformat_minor": 2
}
