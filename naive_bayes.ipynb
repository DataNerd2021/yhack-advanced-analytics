{
 "cells": [
  {
   "cell_type": "markdown",
   "metadata": {},
   "source": [
    "Vectorize/Tokenize scheme"
   ]
  },
  {
   "cell_type": "code",
   "execution_count": 1,
   "metadata": {},
   "outputs": [],
   "source": [
    "import pandas as pd\n",
    "import numpy as np\n",
    "import json\n",
    "from Vectorize import create_vector_dict, vectorize_comment, vectorize_comments"
   ]
  },
  {
   "cell_type": "markdown",
   "metadata": {},
   "source": [
    "Define Stopwords"
   ]
  },
  {
   "cell_type": "code",
   "execution_count": 2,
   "metadata": {},
   "outputs": [
    {
     "name": "stdout",
     "output_type": "stream",
     "text": [
      "Stopwords:\n",
      "{'amongst', '', 'was', '2009', 'where', '1995', 'myself', 'take', 'whether', 'around', '2011', 'them', 'through', 'already', '1992', 'though', 'as', 'do', 'ltd', 'my', 'however', 'about', '64', '2008', 'any', 'under', '39', 'five', 'less', 'and', 'that', 'whereafter', 'cannot', 'thereafter', '1990', 'does', 'f', '90', '2018', 'fify', '96', '%', '82', '16', '40', 'before', 'but', 'mostly', 'did', '66', 'almost', '22', 'm', 'yourselves', 'meanwhile', 'mill', '50', 'fifteen', 'made', 'hereupon', 'q', '98', 'along', '$', 'himself', '1993', 'whoever', 'been', '\\\\?', 'other', 'while', 'b', 'his', '76', '1994', 'they', '46', '67', '\\\\}', 'now', '34', 'either', 'up', 'least', 'such', '\\\\^', 'if', 'put', 'three', 'until', 'throughout', 'yourself', 'afterwards', 'among', '60', 'seemed', '45', '38', '1996', 'everyone', 'whom', 'her', '2013', '27', 'everywhere', '84', 'wherein', 'co', 'cant', 'thence', 'r', 'there', 'see', 'nine', 'elsewhere', '29', 'others', 'own', '17', '!', 'namely', 'two', 'found', '43', 'who', 'whose', 'find', 'o', '71', '87', 'only', 'ten', 'c', 'very', 'even', 'whole', 'rather', 'those', 'can', 'beside', 'some', 'one', 'into', 'third', '4', 'than', 'via', '72', '2001', 'w', '|', '26', '7', 'sixty', 'you', 't', 'last', '44', '9', '\\\\[', 'h', 'i', '30', '25', '.', '&', 'formerly', 'too', '91', '12', '31', 'former', 'off', '2002', 'above', 'wherever', 'your', 'ever', 'he', 'except', 'we', 'this', '32', '56', 'anyway', '49', 'anyhow', 's', 'inc', '3', 'herein', 'per', 'also', 'out', '33', 'amount', 'x', '1998', 'most', 'yours', '95', '20', '\\\\)', 'herself', 'thing', 'twenty', 'eight', 'twelve', '37', 'well', \"doesn't\", 'why', 'still', '80', 'once', 'thereby', 'towards', '78', 'keep', '97', '53', 'hasnt', '>', '58', 'hundred', '2003', '51', 'back', 'get', 'enough', 'six', 'e', 'latterly', 'neither', 'in', 'hers', 'p', 'few', 'latter', 'move', 'ourselves', 'should', 'forty', 'might', '94', '18', 'same', 'k', '-', 'therein', 're', 'often', 'are', 'between', 'eg', '73', 'hereafter', 'could', 'me', 'u', 'front', 'over', 'further', '2015', 'these', 'noone', '#', 'during', '2016', '36', 'am', 'system', '1997', 'sometimes', '2014', 'un', 'within', 'all', '19', 'always', 'nor', '65', '13', '88', 'de', 'couldnt', 'ie', 'whither', 'whereby', '2004', '83', '85', 'being', 'hereby', '2012', '52', 'nevertheless', 'whenever', 'd', 'anywhere', 'themselves', '61', '75', '0', 'alone', 'without', '8', 'mine', 'she', 'each', 'somehow', 'when', 'call', '68', 'not', 'since', 'is', 'will', 'besides', 'else', '\\\\+', 'nobody', 'on', 'everything', '\\\\{', 'him', '2020', 'y', 'z', '69', 'anyone', 'more', '81', 'something', '89', '1999', 'or', '1991', '2007', 'both', 'sometime', 'here', 'had', 'seeming', 'their', 'full', 'has', 'first', '2010', 'with', \"didn't\", 'then', '57', 'because', 'whatever', 'go', '5', '74', 'done', 'beforehand', 'may', 'down', 'after', 'whence', 'of', 'somewhere', '86', 'next', 'g', '21', 'ours', 'several', 'etc', '28', 'con', 'j', 'a', ',', 'our', 'upon', 'have', 'were', 'to', '24', '2', 'eleven', 'seems', '11', 'anything', 'us', 'yet', 'be', '70', 'no', 'together', 'by', \"don't\", '6', 'please', 'against', 'again', '\\\\*', '77', '62', 'bottom', 'its', '93', '\\\\(', 'moreover', 'thru', '59', 'how', 'toward', 'due', 'never', 'someone', ':', 'n', '47', '54', 'must', 'indeed', 'thereupon', 'every', '92', '10', 'onto', '41', ';', 'therefore', '2005', '\\\\]', 'the', '<', 'from', 'v', 'none', 'fire', 'thus', '2000', '48', 'much', 'for', '1', 'although', 'seem', 'across', '63', 'so', 'l', 'what', '14', 'four', 'nowhere', '@', 'another', '35', 'name', 'which', '2006', 'whereupon', 'part', 'otherwise', 'at', 'nothing', 'perhaps', '23', '2017', '2019', 'itself', '99', 'many', 'whereas', '15', 'amoungst', 'serious', '55', '100', 'hence', 'it', 'fill', '42', 'would', 'an', 'give'}\n"
     ]
    }
   ],
   "source": [
    "def read_file_to_list(fpath: str) -> set[str]:\n",
    "    return set(open(fpath, 'r').read().split('\\n'))\n",
    "\n",
    "fpath = 'stopwords.txt'\n",
    "STOPWORDS = read_file_to_list(fpath)\n",
    "\n",
    "# Display stopwords\n",
    "print(\"Stopwords:\")\n",
    "print(STOPWORDS)\n"
   ]
  },
  {
   "cell_type": "code",
   "execution_count": 3,
   "metadata": {},
   "outputs": [],
   "source": [
    "df = pd.read_csv('comments.csv').dropna()\n",
    "comments = df['Comment'].to_list()\n",
    "bagOfWords = create_vector_dict(comments, STOPWORDS)"
   ]
  },
  {
   "cell_type": "markdown",
   "metadata": {},
   "source": [
    "Compute probabilities"
   ]
  },
  {
   "cell_type": "code",
   "execution_count": 68,
   "metadata": {},
   "outputs": [
    {
     "name": "stdout",
     "output_type": "stream",
     "text": [
      "Probability of positive sentiment:  0.8729900043459365\n"
     ]
    }
   ],
   "source": [
    "n = df.shape[0]\n",
    "\n",
    "# P(Y=0) Probability of negative sentiment\n",
    "prob_neg_sent = (df['Sentiment'] == 0.0).sum()/n\n",
    "# P(Y=1) Probability of positive sentiment\n",
    "prob_pos_sent = 1 - prob_neg_sent\n",
    "print('Probability of positive sentiment: ', prob_pos_sent)"
   ]
  },
  {
   "cell_type": "markdown",
   "metadata": {},
   "source": [
    "Inference"
   ]
  },
  {
   "cell_type": "code",
   "execution_count": 75,
   "metadata": {},
   "outputs": [],
   "source": [
    "# vector with number of occurances of each word\n",
    "freq_vector = np.array(json.load(open('comments_vec.json')))\n",
    "freq_vector.shape\n"
   ]
  },
  {
   "cell_type": "code",
   "execution_count": 83,
   "metadata": {},
   "outputs": [
    {
     "data": {
      "text/plain": [
       "16"
      ]
     },
     "execution_count": 83,
     "metadata": {},
     "output_type": "execute_result"
    }
   ],
   "source": [
    "#TODO: run inference on comm\n",
    "PRIOR = prob_neg_sent\n",
    "MARGINAL = #\n",
    "test_comm = \"I love you guys. I hope you know that. 😂 You guys brighten my day with these massive tech unboxing videos.\"\n",
    "test_comm = np.array(vectorize_comment(_comm, bagOfWords))\n",
    "\n",
    "# ((freq_vector.T@comm)@(prob_pos_sent*freq_vector))/prob_pos_sent"
   ]
  },
  {
   "cell_type": "code",
   "execution_count": null,
   "metadata": {},
   "outputs": [],
   "source": [
    "def computeLikelihood():\n",
    "    #TODO: implement"
   ]
  },
  {
   "cell_type": "code",
   "execution_count": 92,
   "metadata": {},
   "outputs": [
    {
     "data": {
      "text/plain": [
       "27.999999999999996"
      ]
     },
     "execution_count": 92,
     "metadata": {},
     "output_type": "execute_result"
    }
   ],
   "source": [
    "# x = freq_vector*comm\n",
    "\n",
    "# _x = prob_pos_sent*freq_vector\n",
    "# x@_x/prob_pos_sent"
   ]
  },
  {
   "cell_type": "code",
   "execution_count": 94,
   "metadata": {},
   "outputs": [
    {
     "data": {
      "text/plain": [
       "57.99999999999999"
      ]
     },
     "execution_count": 94,
     "metadata": {},
     "output_type": "execute_result"
    }
   ],
   "source": [
    "# _test2 = 'I think the pandemic has taught people the importance of multiple streams of income unfortunately having a job doesn’t mean security'\n",
    "# comm2 = np.array(vectorize_comment(_test2, bagOfWords))\n",
    "# z = freq_vector*comm2\n",
    "# _z = prob_neg_sent*freq_vector\n",
    "# z@_z/prob_neg_sent\n"
   ]
  }
 ],
 "metadata": {
  "kernelspec": {
   "display_name": "Python 3",
   "language": "python",
   "name": "python3"
  },
  "language_info": {
   "codemirror_mode": {
    "name": "ipython",
    "version": 3
   },
   "file_extension": ".py",
   "mimetype": "text/x-python",
   "name": "python",
   "nbconvert_exporter": "python",
   "pygments_lexer": "ipython3",
   "version": "3.10.12"
  }
 },
 "nbformat": 4,
 "nbformat_minor": 2
}
