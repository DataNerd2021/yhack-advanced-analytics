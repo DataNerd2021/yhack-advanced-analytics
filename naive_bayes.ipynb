{
 "cells": [
  {
   "cell_type": "markdown",
   "metadata": {},
   "source": [
    "Vectorize/Tokenize scheme"
   ]
  },
  {
   "cell_type": "code",
   "execution_count": 56,
   "metadata": {},
   "outputs": [],
   "source": [
    "import pandas as pd\n",
    "from Vectorize import create_vector_dict, vectorize_comment"
   ]
  },
  {
   "cell_type": "markdown",
   "metadata": {},
   "source": [
    "Define Stopwords"
   ]
  },
  {
   "cell_type": "code",
   "execution_count": 57,
   "metadata": {},
   "outputs": [
    {
     "name": "stdout",
     "output_type": "stream",
     "text": [
      "Stopwords:\n",
      "{'', 'p', 'ltd', 'someone', 'may', 'across', 'perhaps', 'j', '96', '52', 'what', '14', '54', 'afterwards', 'amoungst', 'own', 'call', 'bottom', '2000', '20', 'within', 'twenty', 'whoever', 'itself', 'c', 'mine', 'six', '35', 'being', 'have', 'our', '48', 'four', 'k', 'wherein', '58', 'against', 'front', 'why', '68', 'de', '45', '\\\\(', 'about', '0', 'enough', '70', 'these', '93', 'w', 'yourself', 'around', 'us', 'its', 'part', '4', '2012', '24', 'also', '8', '1994', '2011', '#', 'only', 'each', '32', 'therein', '38', 'noone', 'anywhere', 'every', 'but', 'keep', 'put', 'system', '94', 'most', 'thus', 'elsewhere', \"don't\", 'yourselves', 'eight', 'q', 'something', 'because', 'from', '74', 'none', 'both', '30', '65', 'further', 'm', '92', 'well', '27', '97', 'you', 'the', '1998', 'rather', 'see', '26', '.', 'nevertheless', 'even', '\\\\[', 'thru', 'co', 'latterly', 'which', 'same', 't', 'she', '34', 'others', 'nobody', 'u', 'hasnt', '!', 'whenever', 'fill', 'hundred', 'hereby', 'made', 'neither', '47', 'to', '81', 'among', '33', '61', '67', 'less', 'i', 'former', '98', 'whether', 'sometimes', '83', '\\\\)', 'on', '&', 'under', 'they', 'now', '63', 'often', 'f', 'hence', 'where', 'otherwise', '\\\\+', 'am', 'her', '13', 'a', 'off', 'serious', 'whereas', '-', 'although', 'hers', 'meanwhile', 'get', '2002', 'who', 'anyone', '69', 'almost', '2001', 'whom', \"doesn't\", 'would', '36', 'back', 'fifteen', 'via', ',', 'too', '25', '42', 'if', '87', 'at', 'into', 'some', 'thereupon', 'several', 'has', 'seeming', '99', '2005', 'mostly', 'done', 'nothing', 'always', 'everyone', '\\\\]', 'whither', 'nor', 'beside', 'thereby', 'his', '84', 'during', 'herself', 'with', '62', '2018', '22', 'b', '2003', 'very', 'formerly', 'amongst', 'x', 'does', 'v', '\\\\?', 'could', '15', 'when', 'found', 'except', '2009', 'whole', 'ten', 'however', '55', '\\\\{', 'somewhere', 'himself', 'namely', '49', 'your', 'full', '1993', \"didn't\", '1990', '2017', 'thing', 'before', '\\\\*', 'nowhere', '72', 'couldnt', 'much', 'without', 'find', 'out', 'sixty', 'and', 'eleven', 'again', '82', 'until', 'yours', 'last', 'next', '88', 'un', '29', 'hereupon', 'amount', 'anything', 'it', 'above', 'over', 'thereafter', '$', '50', '1997', 'them', 'whereby', '56', '46', 'ever', '2008', 'take', '51', 'many', 'eg', '2016', 'con', 'besides', 'whatever', 'e', 'here', 'up', '1992', '28', 'seem', '<', 'nine', ':', 'anyway', 'must', 's', '40', 'sometime', '89', '2010', '1', 'as', 'beforehand', 'were', 'latter', 'had', 'toward', 'is', '2015', 'alone', 'fire', 'move', 'themselves', 'for', 'did', 'three', '2020', '5', 'moreover', 'yet', 'per', 'whereupon', '59', '2013', 'another', 'towards', '7', '37', 'hereafter', 'name', 'five', 'never', '21', 'myself', '78', 'onto', '1991', 'l', 'r', 'mill', '17', 'my', 'ours', '\\\\}', 'thence', '2007', '2', 'so', '2019', 'due', 'how', '31', '53', '\\\\^', 'other', '11', '85', '9', '16', '44', 'more', 'than', 'through', '23', 'everywhere', 'can', '60', '|', 'once', 'ourselves', 'in', '75', 'together', '80', 'still', '2014', '%', '100', 'since', 'h', 'me', '57', 'this', 'whence', 'an', 'might', 'everything', 'down', '41', 'seemed', '18', '90', 'no', '2004', 'wherever', 'either', 'or', 'go', 'fify', 'been', '73', 're', '66', '6', '@', '19', 'will', 'inc', 'all', 'throughout', '77', '12', 'not', 'else', 'should', '71', 'was', 'somehow', 'by', 'etc', 'two', 'therefore', '39', '1996', 'z', 'ie', 'he', 'one', 'indeed', 'please', '64', '2006', 'third', 'then', 'seems', '10', 'do', 'whereafter', 'twelve', 'be', '76', 'are', 'any', 'already', '>', ';', 'forty', 'g', '43', 'upon', '91', '95', 'least', '1999', 'n', '86', '3', 'him', 'those', 'we', 'between', 'y', 'give', 'there', 'first', 'of', 'that', 'along', 'after', '1995', 'their', 'such', 'while', 'whose', 'herein', 'o', 'd', 'few', 'anyhow', 'though', 'cant', 'cannot'}\n"
     ]
    }
   ],
   "source": [
    "def read_file_to_list(fpath: str) -> set[str]:\n",
    "    return set(open(fpath, 'r').read().split('\\n'))\n",
    "\n",
    "fpath = 'stopwords.txt'\n",
    "STOPWORDS = read_file_to_list(fpath)\n",
    "\n",
    "# Display stopwords\n",
    "print(\"Stopwords:\")\n",
    "print(STOPWORDS)\n"
   ]
  },
  {
   "cell_type": "code",
   "execution_count": 58,
   "metadata": {},
   "outputs": [],
   "source": [
    "df = pd.read_csv('comments.csv').dropna()\n",
    "comments = df['Comment'].to_list()\n",
    "bagOfWords = create_vector_dict(comments, STOPWORDS)"
   ]
  },
  {
   "cell_type": "code",
   "execution_count": 59,
   "metadata": {},
   "outputs": [
    {
     "name": "stdout",
     "output_type": "stream",
     "text": [
      "Sentence: I love NLTK! It's amazing.\n",
      "Sentiment Score: {'neg': 0.0, 'neu': 0.194, 'pos': 0.806, 'compound': 0.8516}\n",
      "Sentiment: Positive\n",
      "\n",
      "Sentence: This is a neutral statement.\n",
      "Sentiment Score: {'neg': 0.0, 'neu': 1.0, 'pos': 0.0, 'compound': 0.0}\n",
      "Sentiment: Neutral\n",
      "\n",
      "Sentence: I dislike negative reviews.\n",
      "Sentiment Score: {'neg': 0.863, 'neu': 0.137, 'pos': 0.0, 'compound': -0.743}\n",
      "Sentiment: Negative\n",
      "\n"
     ]
    }
   ],
   "source": [
    "from nltk.sentiment import SentimentIntensityAnalyzer\n",
    "\n",
    "# Create a SentimentIntensityAnalyzer\n",
    "sia = SentimentIntensityAnalyzer()\n",
    "\n",
    "# Example sentences\n",
    "sentences = [\n",
    "    \"I love NLTK! It's amazing.\",\n",
    "    \"This is a neutral statement.\",\n",
    "    \"I dislike negative reviews.\",\n",
    "]\n",
    "\n",
    "# Analyze sentiment for each sentence\n",
    "for sentence in sentences:\n",
    "    sentiment_score = sia.polarity_scores(sentence)\n",
    "    print(f\"Sentence: {sentence}\")\n",
    "    print(f\"Sentiment Score: {sentiment_score}\")\n",
    "    print(\"Sentiment:\", end=\" \")\n",
    "\n",
    "    # Determine sentiment based on compound score\n",
    "    if sentiment_score['compound'] >= 0.05:\n",
    "        print(\"Positive\")\n",
    "    elif sentiment_score['compound'] <= -0.05:\n",
    "        print(\"Negative\")\n",
    "    else:\n",
    "        print(\"Neutral\")\n",
    "\n",
    "    print()"
   ]
  },
  {
   "cell_type": "code",
   "execution_count": 60,
   "metadata": {},
   "outputs": [],
   "source": [
    "# from sklearn.naive_bayes import BernoulliNB\n",
    "# from sklearn.model_selection import train_test_split\n",
    "\n",
    "# X = []\n",
    "# y = []\n",
    "\n",
    "# X_train, X_test, y_train, y_test = train_test_split(X, y, test_size=0.2, random_state=42)\n",
    "\n",
    "# bayes_classifier = BernoulliNB()\n",
    "\n",
    "# bayes_classifier.fit(X_train, y_train)"
   ]
  },
  {
   "cell_type": "code",
   "execution_count": 61,
   "metadata": {},
   "outputs": [
    {
     "name": "stdout",
     "output_type": "stream",
     "text": [
      "Skipping non-string value: nan\n",
      "Accuracy: 51.76%\n"
     ]
    }
   ],
   "source": [
    "import nltk\n",
    "from nltk.classify import NaiveBayesClassifier\n",
    "from nltk.classify.util import accuracy\n",
    "\n",
    "df = pd.read_csv('Comments.csv')\n",
    "\n",
    "comments = df['Comment'].tolist()\n",
    "sentiments = df['Sentiment'].tolist()\n",
    "\n",
    "training = dict(zip(comments, sentiments))\n",
    "\n",
    "# Convert the dictionary to a list of tuples\n",
    "# Each tuple contains a comment and the corresponding sentiment label\n",
    "data_tuples = [(comment, sentiment) for comment, sentiment in training.items()]\n",
    "\n",
    "# Split into training and testing sets\n",
    "train_size = int(len(data_tuples) * 0.8)\n",
    "train_set, test_set = data_tuples[:train_size], data_tuples[train_size:]\n",
    "\n",
    "# Define a simple feature extractor\n",
    "def word_features(comment):\n",
    "    # Check if the comment is a string\n",
    "    if isinstance(comment, str):\n",
    "        return dict((word, True) for word in comment.split())\n",
    "    else:\n",
    "        # Handle non-string values (e.g., floats)\n",
    "        print(f\"Skipping non-string value: {comment}\")\n",
    "        return {}\n",
    "\n",
    "# Convert the data to the required format\n",
    "train_features = [(word_features(comment), sentiment) for (comment, sentiment) in train_set]\n",
    "test_features = [(word_features(comment), sentiment) for (comment, sentiment) in test_set]\n",
    "\n",
    "# Train the Naive Bayes classifier\n",
    "classifier = NaiveBayesClassifier.train(train_features)\n",
    "\n",
    "# Evaluate accuracy\n",
    "acc = accuracy(classifier, test_features)\n",
    "print(f'Accuracy: {acc * 100:.2f}%')"
   ]
  },
  {
   "cell_type": "markdown",
   "metadata": {},
   "source": [
    "Train Model"
   ]
  },
  {
   "cell_type": "code",
   "execution_count": 62,
   "metadata": {},
   "outputs": [],
   "source": [
    "# TODO: implement model"
   ]
  },
  {
   "cell_type": "markdown",
   "metadata": {},
   "source": [
    "Inference"
   ]
  },
  {
   "cell_type": "code",
   "execution_count": 63,
   "metadata": {},
   "outputs": [],
   "source": [
    "#TODO: run inference"
   ]
  }
 ],
 "metadata": {
  "kernelspec": {
   "display_name": "Python 3",
   "language": "python",
   "name": "python3"
  },
  "language_info": {
   "codemirror_mode": {
    "name": "ipython",
    "version": 3
   },
   "file_extension": ".py",
   "mimetype": "text/x-python",
   "name": "python",
   "nbconvert_exporter": "python",
   "pygments_lexer": "ipython3",
   "version": "3.11.4"
  }
 },
 "nbformat": 4,
 "nbformat_minor": 2
}
